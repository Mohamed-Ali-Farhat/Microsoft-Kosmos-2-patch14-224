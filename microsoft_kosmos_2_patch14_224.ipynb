{
  "nbformat": 4,
  "nbformat_minor": 0,
  "metadata": {
    "colab": {
      "provenance": []
    },
    "kernelspec": {
      "name": "python3",
      "display_name": "Python 3"
    },
    "language_info": {
      "name": "python"
    }
  },
  "cells": [
    {
      "cell_type": "code",
      "execution_count": 8,
      "metadata": {
        "id": "9fW3iXSbOlCU"
      },
      "outputs": [],
      "source": [
        "import requests\n",
        "\n",
        "from PIL import Image\n",
        "from transformers import AutoProcessor, AutoModelForVision2Seq\n",
        "\n",
        "\n",
        "model = AutoModelForVision2Seq.from_pretrained(\"microsoft/kosmos-2-patch14-224\")\n",
        "processor = AutoProcessor.from_pretrained(\"microsoft/kosmos-2-patch14-224\")\n",
        "\n",
        "prompt = \"<grounding>An image of\"\n",
        "\n",
        "url = \"https://huggingface.co/microsoft/kosmos-2-patch14-224/resolve/main/snowman.png\"\n",
        "image = Image.open(requests.get(url, stream=True).raw)\n",
        "\n",
        "image.save(\"new_image.jpg\")\n",
        "image = Image.open(\"new_image.jpg\")\n",
        "\n",
        "inputs = processor(text=prompt, images=image, return_tensors=\"pt\")\n",
        "\n",
        "generated_ids = model.generate(\n",
        "    pixel_values=inputs[\"pixel_values\"],\n",
        "    input_ids=inputs[\"input_ids\"],\n",
        "    attention_mask=inputs[\"attention_mask\"],\n",
        "    image_embeds=None,\n",
        "    image_embeds_position_mask=inputs[\"image_embeds_position_mask\"],\n",
        "    use_cache=True,\n",
        "    max_new_tokens=128,\n",
        ")\n",
        "generated_text = processor.batch_decode(generated_ids, skip_special_tokens=True)[0]\n",
        "\n",
        "processed_text = processor.post_process_generation(generated_text, cleanup_and_extract=False)\n",
        "\n",
        "processed_text, entities = processor.post_process_generation(generated_text)\n",
        "\n",
        "\n",
        "\n",
        "\n"
      ]
    },
    {
      "cell_type": "code",
      "source": [
        "print(processed_text)"
      ],
      "metadata": {
        "colab": {
          "base_uri": "https://localhost:8080/"
        },
        "id": "YTrlR4M7PFXs",
        "outputId": "b8e511ad-6b0c-41d5-d648-919600aa3413"
      },
      "execution_count": 13,
      "outputs": [
        {
          "output_type": "stream",
          "name": "stdout",
          "text": [
            "An image of a snowman warming himself by a fire.\n"
          ]
        }
      ]
    }
  ]
}